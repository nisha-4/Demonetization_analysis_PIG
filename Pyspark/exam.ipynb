{
 "cells": [
  {
   "cell_type": "code",
   "execution_count": 1,
   "id": "3c89a10f",
   "metadata": {},
   "outputs": [
    {
     "name": "stdout",
     "output_type": "stream",
     "text": [
      "23/02/25 11:01:41 WARN Utils: Your hostname, Nishas-macbook.local resolves to a loopback address: 127.0.0.1; using 10.20.50.103 instead (on interface en0)\n",
      "23/02/25 11:01:41 WARN Utils: Set SPARK_LOCAL_IP if you need to bind to another address\n"
     ]
    },
    {
     "name": "stderr",
     "output_type": "stream",
     "text": [
      "Setting default log level to \"WARN\".\n",
      "To adjust logging level use sc.setLogLevel(newLevel). For SparkR, use setLogLevel(newLevel).\n"
     ]
    },
    {
     "name": "stdout",
     "output_type": "stream",
     "text": [
      "23/02/25 11:01:42 WARN NativeCodeLoader: Unable to load native-hadoop library for your platform... using builtin-java classes where applicable\n"
     ]
    }
   ],
   "source": [
    "import findspark;\n",
    "findspark.init();\n",
    "import pyspark\n",
    "from pyspark import SparkContext\n",
    "sc =SparkContext()"
   ]
  },
  {
   "cell_type": "code",
   "execution_count": 2,
   "id": "d1110b24",
   "metadata": {},
   "outputs": [
    {
     "name": "stderr",
     "output_type": "stream",
     "text": [
      "/usr/local/opt/apache-spark/libexec/python/pyspark/sql/context.py:112: FutureWarning: Deprecated in 3.0.0. Use SparkSession.builder.getOrCreate() instead.\n",
      "  warnings.warn(\n"
     ]
    }
   ],
   "source": [
    "from pyspark.sql import Row\n",
    "from pyspark.sql import SQLContext\n",
    "sqlContext = SQLContext(sc)"
   ]
  },
  {
   "cell_type": "code",
   "execution_count": 3,
   "id": "4c22ab93",
   "metadata": {},
   "outputs": [],
   "source": [
    "url = \"/Users/apple/Desktop/tweets14.csv\"\n",
    "from pyspark import SparkFiles\n",
    "sc.addFile(url)\n",
    "sqlContext = SQLContext(sc)"
   ]
  },
  {
   "cell_type": "code",
   "execution_count": 4,
   "id": "376d42cc",
   "metadata": {},
   "outputs": [
    {
     "name": "stderr",
     "output_type": "stream",
     "text": [
      "                                                                                \r"
     ]
    }
   ],
   "source": [
    "df=sqlContext.read.csv(SparkFiles.get(\"tweets14.csv\"), header=True, inferSchema= True, sep=',')"
   ]
  },
  {
   "cell_type": "code",
   "execution_count": 5,
   "id": "ff5d39a2",
   "metadata": {},
   "outputs": [
    {
     "data": {
      "text/plain": [
       "21351"
      ]
     },
     "execution_count": 5,
     "metadata": {},
     "output_type": "execute_result"
    }
   ],
   "source": [
    "df.count()"
   ]
  },
  {
   "cell_type": "code",
   "execution_count": 6,
   "id": "8e01225b",
   "metadata": {
    "scrolled": true
   },
   "outputs": [
    {
     "name": "stderr",
     "output_type": "stream",
     "text": [
      "                                                                                \r"
     ]
    },
    {
     "data": {
      "text/plain": [
       "DataFrame[summary: string, X: string, text: string, favorited: string, favoriteCount: string, replyToSN: string, truncated: string, replyToSID: string, id: string, replyToUID: string, screenName: string, retweetCount: string, isRetweet: string, retweeted: string]"
      ]
     },
     "execution_count": 6,
     "metadata": {},
     "output_type": "execute_result"
    }
   ],
   "source": [
    "df.describe()"
   ]
  },
  {
   "cell_type": "code",
   "execution_count": 7,
   "id": "d1bf6dcb",
   "metadata": {},
   "outputs": [
    {
     "name": "stdout",
     "output_type": "stream",
     "text": [
      "root\n",
      " |-- X: string (nullable = true)\n",
      " |-- text: string (nullable = true)\n",
      " |-- favorited: string (nullable = true)\n",
      " |-- favoriteCount: string (nullable = true)\n",
      " |-- replyToSN: string (nullable = true)\n",
      " |-- truncated: string (nullable = true)\n",
      " |-- replyToSID: string (nullable = true)\n",
      " |-- id: string (nullable = true)\n",
      " |-- replyToUID: string (nullable = true)\n",
      " |-- screenName: string (nullable = true)\n",
      " |-- retweetCount: string (nullable = true)\n",
      " |-- isRetweet: string (nullable = true)\n",
      " |-- retweeted: integer (nullable = true)\n",
      "\n"
     ]
    }
   ],
   "source": [
    "df.printSchema()"
   ]
  },
  {
   "cell_type": "code",
   "execution_count": 7,
   "id": "3f9ae1bc",
   "metadata": {},
   "outputs": [
    {
     "name": "stdout",
     "output_type": "stream",
     "text": [
      "root\n",
      " |-- X: integer (nullable = true)\n",
      " |-- text: string (nullable = true)\n",
      " |-- favorited: integer (nullable = true)\n",
      " |-- favoriteCount: integer (nullable = true)\n",
      " |-- replyToSN: string (nullable = true)\n",
      " |-- truncated: integer (nullable = true)\n",
      " |-- replyToSID: string (nullable = true)\n",
      " |-- id: integer (nullable = true)\n",
      " |-- replyToUID: string (nullable = true)\n",
      " |-- screenName: string (nullable = true)\n",
      " |-- retweetCount: integer (nullable = true)\n",
      " |-- isRetweet: integer (nullable = true)\n",
      " |-- retweeted: integer (nullable = true)\n",
      "\n",
      "+----+--------------------+---------+-------------+--------------+---------+------------------+----+---------------+---------------+------------+---------+---------+\n",
      "|   X|                text|favorited|favoriteCount|     replyToSN|truncated|        replyToSID|  id|     replyToUID|     screenName|retweetCount|isRetweet|retweeted|\n",
      "+----+--------------------+---------+-------------+--------------+---------+------------------+----+---------------+---------------+------------+---------+---------+\n",
      "|   1|RT @rssurjewala: ...|        0|            0|            NA|        0|                NA|null|             NA|HASHTAGFARZIWAL|         331|        1|        0|\n",
      "|   2|RT @Hemant_80: Di...|        0|            0|            NA|        0|                NA|null|             NA| PRAMODKAUSHIK9|          66|        1|        0|\n",
      "|   3|RT @roshankar: Fo...|     null|         null|          null|     null|              null|null|           null|           null|        null|     null|     null|\n",
      "|null|      listen to th…\"|        0|            0|            NA|        0|                NA|null|             NA|rahulja13034944|          12|        1|        0|\n",
      "|   4|RT @ANI_news: Gur...|        0|            0|            NA|        0|                NA|null|             NA|      deeptiyvd|         338|        1|        0|\n",
      "|   5|RT @satishacharya...|        0|            0|            NA|        0|                NA|null|             NA|      CPIMBadli|         120|        1|        0|\n",
      "|   6|@DerekScissors1: ...|        0|            0|DerekScissors1|        0|                NA|null|     2586266100|    ambazaarmag|           0|        0|        0|\n",
      "|   7|RT @gauravcsawant...|        0|            0|            NA|        0|                NA|null|             NA|        bhodia1|         637|        1|        0|\n",
      "|   8|RT @Joydeep_911: ...|     null|         null|          null|     null|              null|null|           null|           null|        null|     null|     null|\n",
      "|null|                   0|        0|         null|             0|     null|801495113092497000|null|KARUNASHANKEROJ|            112|           1|        0|     null|\n",
      "|   9|RT @sumitbhati200...|     null|         null|          null|     null|              null|null|           null|           null|        null|     null|     null|\n",
      "|null|but support oppos...|        0|            0|            NA|        0|                NA|null|             NA| sumitbhati2002|           1|        1|        0|\n",
      "|  10|National reform n...|        0|            0|            NA|        1|                NA|null|             NA|  HelpIndia2016|           0|        0|        0|\n",
      "|  11|Many opposition l...|     null|         null|          null|     null|              null|null|           null|           null|        null|     null|     null|\n",
      "|null|but support oppos...|        0|            1|            NA|        0|                NA|null|             NA| sumitbhati2002|           1|        0|        0|\n",
      "|  12|RT @Joydas: Quest...|        0|            0|            NA|        0|                NA|null|             NA|   MonishGavand|         120|        1|        0|\n",
      "|  13|@Jaggesh2 Bharat ...|        0|            0|      Jaggesh2|        0|       8.01482E+17|null|     1225924610|  yuvaraj_karki|           0|        0|        0|\n",
      "|  14|RT @Atheist_Krish...|     null|         null|          null|     null|              null|null|           null|           null|        null|     null|     null|\n",
      "|null|                   0|        0|         null|             0|     null|801494687345324000|null|        PMKejri|             45|           1|        0|     null|\n",
      "|  15|RT @sona2905: Whe...|        0|            0|            NA|        0|                NA|null|             NA|      hkgupta16|          50|        1|        0|\n",
      "+----+--------------------+---------+-------------+--------------+---------+------------------+----+---------------+---------------+------------+---------+---------+\n",
      "only showing top 20 rows\n",
      "\n"
     ]
    }
   ],
   "source": [
    "from pyspark.sql.types import IntegerType\n",
    "df = df.withColumn(\"X\", df[\"X\"].cast(IntegerType()))\n",
    "df = df.withColumn(\"favorited\", df[\"favorited\"].cast(IntegerType()))\n",
    "df = df.withColumn(\"favoriteCount\", df[\"favoriteCount\"].cast(IntegerType()))\n",
    "df = df.withColumn(\"truncated\", df[\"truncated\"].cast(IntegerType()))\n",
    "df = df.withColumn(\"id\", df[\"id\"].cast(IntegerType()))\n",
    "df = df.withColumn(\"retweetCount\", df[\"retweetCount\"].cast(IntegerType()))\n",
    "df = df.withColumn(\"isRetweet\", df[\"isRetweet\"].cast(IntegerType()))\n",
    "df.printSchema()\n",
    "df.show(truncate=True)"
   ]
  },
  {
   "cell_type": "code",
   "execution_count": 8,
   "id": "f268fbb8",
   "metadata": {},
   "outputs": [
    {
     "name": "stderr",
     "output_type": "stream",
     "text": [
      "                                                                                \r"
     ]
    },
    {
     "data": {
      "text/plain": [
       "DataFrame[summary: string, X: string, text: string, favorited: string, favoriteCount: string, replyToSN: string, truncated: string, replyToSID: string, id: string, replyToUID: string, screenName: string, retweetCount: string, isRetweet: string, retweeted: string]"
      ]
     },
     "execution_count": 8,
     "metadata": {},
     "output_type": "execute_result"
    }
   ],
   "source": [
    "df.describe()"
   ]
  },
  {
   "cell_type": "code",
   "execution_count": 9,
   "id": "30510d91",
   "metadata": {},
   "outputs": [
    {
     "data": {
      "text/plain": [
       "False"
      ]
     },
     "execution_count": 9,
     "metadata": {},
     "output_type": "execute_result"
    }
   ],
   "source": [
    "import pandas\n",
    "pandas.isnull(df)"
   ]
  },
  {
   "cell_type": "code",
   "execution_count": 10,
   "id": "56d17a48",
   "metadata": {},
   "outputs": [
    {
     "name": "stdout",
     "output_type": "stream",
     "text": [
      "+---+------------------------------------------------------------------------------------------------------------------------------------------------+---------+-------------+---------+---------+----------+----+----------+---------------+------------+---------+---------+\n",
      "|X  |text                                                                                                                                            |favorited|favoriteCount|replyToSN|truncated|replyToSID|id  |replyToUID|screenName     |retweetCount|isRetweet|retweeted|\n",
      "+---+------------------------------------------------------------------------------------------------------------------------------------------------+---------+-------------+---------+---------+----------+----+----------+---------------+------------+---------+---------+\n",
      "|1  |RT @rssurjewala: Critical question: Was PayTM informed about #Demonetization edict by PM? It's clearly fishy and requires full disclosure &amp;…|0        |0            |NA       |0        |NA        |null|NA        |HASHTAGFARZIWAL|331         |1        |0        |\n",
      "|2  |RT @Hemant_80: Did you vote on #Demonetization on Modi survey app?                                                                              |0        |0            |NA       |0        |NA        |null|NA        |PRAMODKAUSHIK9 |66          |1        |0        |\n",
      "+---+------------------------------------------------------------------------------------------------------------------------------------------------+---------+-------------+---------+---------+----------+----+----------+---------------+------------+---------+---------+\n",
      "only showing top 2 rows\n",
      "\n"
     ]
    }
   ],
   "source": [
    "df.show(2, truncate = False)"
   ]
  },
  {
   "cell_type": "code",
   "execution_count": 11,
   "id": "9fa131b8",
   "metadata": {},
   "outputs": [
    {
     "name": "stdout",
     "output_type": "stream",
     "text": [
      "+----+-------------+---------+----+------------+---------+---------+\n",
      "|   X|favoriteCount|truncated|  id|retweetCount|isRetweet|retweeted|\n",
      "+----+-------------+---------+----+------------+---------+---------+\n",
      "|   1|            0|        0|null|         331|        1|        0|\n",
      "|   2|            0|        0|null|          66|        1|        0|\n",
      "|   3|         null|     null|null|        null|     null|     null|\n",
      "|null|            0|        0|null|          12|        1|        0|\n",
      "|   4|            0|        0|null|         338|        1|        0|\n",
      "|   5|            0|        0|null|         120|        1|        0|\n",
      "|   6|            0|        0|null|           0|        0|        0|\n",
      "|   7|            0|        0|null|         637|        1|        0|\n",
      "|   8|         null|     null|null|        null|     null|     null|\n",
      "|null|         null|     null|null|           1|        0|     null|\n",
      "+----+-------------+---------+----+------------+---------+---------+\n",
      "only showing top 10 rows\n",
      "\n"
     ]
    }
   ],
   "source": [
    "df.select('X','favoriteCount','truncated','id','retweetCount','isRetweet','retweeted').show(10)"
   ]
  },
  {
   "cell_type": "code",
   "execution_count": 12,
   "id": "8ab46cf7",
   "metadata": {},
   "outputs": [
    {
     "name": "stdout",
     "output_type": "stream",
     "text": [
      "+----+------------------------------------------------------------------------------------------------------------------------------------------------+---------+-------------+---------+---------+----------+----+----------+---------------+------------+---------+---------+\n",
      "|X   |text                                                                                                                                            |favorited|favoriteCount|replyToSN|truncated|replyToSID|id  |replyToUID|screenName     |retweetCount|isRetweet|retweeted|\n",
      "+----+------------------------------------------------------------------------------------------------------------------------------------------------+---------+-------------+---------+---------+----------+----+----------+---------------+------------+---------+---------+\n",
      "|1   |RT @rssurjewala: Critical question: Was PayTM informed about #Demonetization edict by PM? It's clearly fishy and requires full disclosure &amp;…|0        |0            |NA       |0        |NA        |null|NA        |HASHTAGFARZIWAL|331         |1        |0        |\n",
      "|2   |RT @Hemant_80: Did you vote on #Demonetization on Modi survey app?                                                                              |0        |0            |NA       |0        |NA        |null|NA        |PRAMODKAUSHIK9 |66          |1        |0        |\n",
      "|3   |RT @roshankar: Former FinSec, RBI Dy Governor, CBDT Chair + Harvard Professor lambaste #Demonetization.                                         |null     |null         |null     |null     |null      |null|null      |null           |null        |null     |null     |\n",
      "|null| listen to th…\"                                                                                                                                 |0        |0            |NA       |0        |NA        |null|NA        |rahulja13034944|12          |1        |0        |\n",
      "|4   |RT @ANI_news: Gurugram (Haryana): Post office employees provide cash exchange to patients in hospitals #demonetization https://t.co/uGMxUP9…    |0        |0            |NA       |0        |NA        |null|NA        |deeptiyvd      |338         |1        |0        |\n",
      "+----+------------------------------------------------------------------------------------------------------------------------------------------------+---------+-------------+---------+---------+----------+----+----------+---------------+------------+---------+---------+\n",
      "only showing top 5 rows\n",
      "\n"
     ]
    }
   ],
   "source": [
    "df.show(5, truncate = False)"
   ]
  },
  {
   "cell_type": "code",
   "execution_count": 13,
   "id": "1490463a",
   "metadata": {},
   "outputs": [
    {
     "name": "stdout",
     "output_type": "stream",
     "text": [
      "+--------------------+------------+\n",
      "|                text|retweetCount|\n",
      "+--------------------+------------+\n",
      "|RT @rssurjewala: ...|         331|\n",
      "|RT @Hemant_80: Di...|          66|\n",
      "|RT @roshankar: Fo...|        null|\n",
      "|      listen to th…\"|          12|\n",
      "|RT @ANI_news: Gur...|         338|\n",
      "+--------------------+------------+\n",
      "only showing top 5 rows\n",
      "\n"
     ]
    }
   ],
   "source": [
    "df.select('text','retweetCount').show(5)"
   ]
  },
  {
   "cell_type": "code",
   "execution_count": 14,
   "id": "2be4dea9",
   "metadata": {},
   "outputs": [
    {
     "name": "stdout",
     "output_type": "stream",
     "text": [
      "+--------------------+-----+\n",
      "|                text|count|\n",
      "+--------------------+-----+\n",
      "|Google, YouTube w...|    1|\n",
      "|<ed><U+00A0><U+00...|    1|\n",
      "|There's only one ...|    1|\n",
      "|#AsiaSociety Stat...|    1|\n",
      "|@jayanthsugavasi ...|    1|\n",
      "| replugging my re...|    1|\n",
      "|@PMOIndia @CRPaat...|    1|\n",
      "|RT @TweetZaade: #...|    1|\n",
      "|I don't understan...|    1|\n",
      "|#Demonetization w...|    1|\n",
      "|The great YouTube...|    1|\n",
      "|It is surprising ...|    1|\n",
      "| then demonetizat...|    1|\n",
      "|.@Being_Humor Ma'...|    1|\n",
      "|Vivaan Shah: Laal...|    1|\n",
      "|.. Its an effing ...|    1|\n",
      "|RT @anechidna: no...|    1|\n",
      "|RT @Stupidosaur: ...|    1|\n",
      "|This is a simple ...|    1|\n",
      "|<ed><U+00A0><U+00...|    1|\n",
      "+--------------------+-----+\n",
      "only showing top 20 rows\n",
      "\n"
     ]
    }
   ],
   "source": [
    "df.groupBy(\"text\").count().sort(\"count\",ascending=True).show()"
   ]
  },
  {
   "cell_type": "code",
   "execution_count": 15,
   "id": "45df9e59",
   "metadata": {},
   "outputs": [
    {
     "name": "stderr",
     "output_type": "stream",
     "text": [
      "[Stage 19:>                                                         (0 + 1) / 1]\r"
     ]
    },
    {
     "name": "stdout",
     "output_type": "stream",
     "text": [
      "+-------+-----------------+--------------------+------------------+------------------+--------------------+-------------------+--------------------+-------------------+--------------------+--------------------+------------------+------------------+--------------------+\n",
      "|summary|                X|                text|         favorited|     favoriteCount|           replyToSN|          truncated|          replyToSID|                 id|          replyToUID|          screenName|      retweetCount|         isRetweet|           retweeted|\n",
      "+-------+-----------------+--------------------+------------------+------------------+--------------------+-------------------+--------------------+-------------------+--------------------+--------------------+------------------+------------------+--------------------+\n",
      "|  count|            15001|               19769|             14892|             10364|               14946|              10328|               14940|                103|               14940|               14940|             14893|             14934|               10370|\n",
      "|   mean|7440.390507299513| 0.46829908176650636|0.2968036529680365|0.9074681590119645|0.027501082719792118|0.05548024786986832|8.225939695302969...|2.851133971553398E8|7.825084394322460...|1.224212219820462E15|1361.9617941314712|1.1646578277755457|0.015814850530376085|\n",
      "| stddev|4329.950898523817|  29.776251782406067|10.742191420106236|12.413935160088526|  0.1674816736292157| 0.2289263293199125|7.825940292870536E16|3.935410765205252E8|2.384369426092180...|3.132725286522370...|154377.19154967155| 25.44445620030766|  0.9801485263064491|\n",
      "|    min|                0|                    |                 0|                 0|                   0|                  0|                   0|                  0|           000mrs000|                   0|                 0|                 0|                   0|\n",
      "|    max|            14940|…and the replacem...|               989|               523|           zerohedge|                  1|        narendramodi|         1699559252|        zzzscoobyzzz|        zutshisanjay|          18839785|              1030|                  71|\n",
      "+-------+-----------------+--------------------+------------------+------------------+--------------------+-------------------+--------------------+-------------------+--------------------+--------------------+------------------+------------------+--------------------+\n",
      "\n"
     ]
    },
    {
     "name": "stderr",
     "output_type": "stream",
     "text": [
      "                                                                                \r"
     ]
    }
   ],
   "source": [
    "df.describe().show(truncate = True)"
   ]
  },
  {
   "cell_type": "code",
   "execution_count": 16,
   "id": "33b8d44b",
   "metadata": {},
   "outputs": [
    {
     "name": "stdout",
     "output_type": "stream",
     "text": [
      "+-------+------------------+\n",
      "|summary|      retweetCount|\n",
      "+-------+------------------+\n",
      "|  count|             14893|\n",
      "|   mean|1361.9617941314712|\n",
      "| stddev|154377.19154967155|\n",
      "|    min|                 0|\n",
      "|    max|          18839785|\n",
      "+-------+------------------+\n",
      "\n"
     ]
    }
   ],
   "source": [
    "df.describe('retweetCount').show()"
   ]
  },
  {
   "cell_type": "code",
   "execution_count": 18,
   "id": "7f82fb9e",
   "metadata": {},
   "outputs": [
    {
     "data": {
      "text/plain": [
       "5865"
      ]
     },
     "execution_count": 18,
     "metadata": {},
     "output_type": "execute_result"
    }
   ],
   "source": [
    "df.filter(df.retweetCount > 10).count()"
   ]
  },
  {
   "cell_type": "code",
   "execution_count": 24,
   "id": "9f4f5b15",
   "metadata": {},
   "outputs": [
    {
     "data": {
      "text/plain": [
       "21"
      ]
     },
     "execution_count": 24,
     "metadata": {},
     "output_type": "execute_result"
    }
   ],
   "source": [
    "df.filter(df.favoriteCount > 100).count()"
   ]
  },
  {
   "cell_type": "code",
   "execution_count": null,
   "id": "37d803fb",
   "metadata": {},
   "outputs": [],
   "source": []
  }
 ],
 "metadata": {
  "kernelspec": {
   "display_name": "Python 3 (ipykernel)",
   "language": "python",
   "name": "python3"
  },
  "language_info": {
   "codemirror_mode": {
    "name": "ipython",
    "version": 3
   },
   "file_extension": ".py",
   "mimetype": "text/x-python",
   "name": "python",
   "nbconvert_exporter": "python",
   "pygments_lexer": "ipython3",
   "version": "3.9.13"
  }
 },
 "nbformat": 4,
 "nbformat_minor": 5
}
